{
  "cells": [
    {
      "cell_type": "code",
      "execution_count": null,
      "metadata": {
        "id": "moGXEz_KzFKW"
      },
      "outputs": [],
      "source": [
        "import numpy as np\n",
        "import pandas as pd\n",
        "import cv2\n",
        "import os\n",
        "from google.colab import drive"
      ]
    },
    {
      "cell_type": "code",
      "execution_count": null,
      "metadata": {
        "id": "Q-P4NfWvVh1d"
      },
      "outputs": [],
      "source": [
        "from tensorflow.keras.applications.vgg16 import VGG16\n",
        "from tensorflow.keras.applications.vgg19 import VGG19"
      ]
    },
    {
      "cell_type": "code",
      "execution_count": null,
      "metadata": {
        "id": "TdIXA6g1Od04"
      },
      "outputs": [],
      "source": [
        "import os\n",
        "import shutil\n",
        "from sklearn.model_selection import train_test_split\n",
        "\n",
        "# Define the root directory of your dataset\n",
        "dataset_dir = 'dataset/'\n",
        "\n",
        "# Define the classes\n",
        "classes = ['mild_dementia', 'moderate_dementia', 'non_dementia', 'very_mild_dementia']\n",
        "\n",
        "# Define the ratio for splitting (e.g., 80% train, 20% test)\n",
        "train_ratio = 0.8\n",
        "\n",
        "# Loop through each class and split the data\n",
        "for class_name in classes:\n",
        "    class_dir = os.path.join(dataset_dir, class_name)\n",
        "    images = os.listdir(class_dir)\n",
        "\n",
        "    # Split the images into train and test sets\n",
        "    train_images, test_images = train_test_split(images, train_size=train_ratio, random_state=42)\n",
        "\n",
        "    # Create train and test directories if they don't exist\n",
        "    os.makedirs(os.path.join(dataset_dir, 'train', class_name), exist_ok=True)\n",
        "    os.makedirs(os.path.join(dataset_dir, 'test', class_name), exist_ok=True)\n",
        "\n",
        "    # Move the images to their respective directories\n",
        "    for image in train_images:\n",
        "        src = os.path.join(class_dir, image)\n",
        "        dst = os.path.join(dataset_dir, 'train', class_name, image)\n",
        "        shutil.move(src, dst)\n",
        "\n",
        "    for image in test_images:\n",
        "        src = os.path.join(class_dir, image)\n",
        "        dst = os.path.join(dataset_dir, 'test', class_name, image)\n",
        "        shutil.move(src, dst)\n"
      ]
    },
    {
      "cell_type": "code",
      "execution_count": null,
      "metadata": {
        "colab": {
          "base_uri": "https://localhost:8080/"
        },
        "id": "SE0Gx6gpdFrc",
        "outputId": "624a99f8-4839-4292-d885-125219eb7201"
      },
      "outputs": [
        {
          "name": "stdout",
          "output_type": "stream",
          "text": [
            "Mounted at /content/drive\n"
          ]
        }
      ],
      "source": [
        "from google.colab import drive\n",
        "import os\n",
        "\n",
        "# Mount Google Drive\n",
        "drive.mount('/content/drive')"
      ]
    },
    {
      "cell_type": "code",
      "execution_count": null,
      "metadata": {
        "colab": {
          "base_uri": "https://localhost:8080/"
        },
        "id": "Bpl2O4BsBoRi",
        "outputId": "a3e7dbee-a58e-408b-e95b-59530b2c5448"
      },
      "outputs": [
        {
          "name": "stdout",
          "output_type": "stream",
          "text": [
            "GPU found\n",
            "GPU device name: /device:GPU:0\n"
          ]
        }
      ],
      "source": [
        "import tensorflow as tf\n",
        "\n",
        "# Check if GPU is available\n",
        "if tf.test.gpu_device_name():\n",
        "    print('GPU found')\n",
        "    print('GPU device name:', tf.test.gpu_device_name())\n",
        "else:\n",
        "    print(\"No GPU found\")\n"
      ]
    },
    {
      "cell_type": "code",
      "execution_count": null,
      "metadata": {
        "colab": {
          "base_uri": "https://localhost:8080/"
        },
        "id": "t24RvrY4KdWy",
        "outputId": "da1a7592-4b78-4047-a4d8-0a82b864f901"
      },
      "outputs": [
        {
          "name": "stdout",
          "output_type": "stream",
          "text": [
            "Drive already mounted at /content/drive; to attempt to forcibly remount, call drive.mount(\"/content/drive\", force_remount=True).\n",
            "/content/drive/MyDrive\n",
            "Downloading alzheimers-dataset-4-class-of-images.zip to /content/drive/MyDrive\n",
            " 97% 33.0M/34.1M [00:02<00:00, 22.1MB/s]\n",
            "100% 34.1M/34.1M [00:02<00:00, 16.7MB/s]\n"
          ]
        }
      ],
      "source": [
        "# !pip install kaggle\n",
        "from google.colab import drive\n",
        "import os\n",
        "\n",
        "# Mount Google Drive\n",
        "drive.mount('/content/drive')\n",
        "\n",
        "# Set your Kaggle API credentials (replace with your own values)\n",
        "os.environ['KAGGLE_USERNAME'] = \"owaisbashir26\"\n",
        "os.environ['KAGGLE_KEY'] = \"2a10d539f059ebaeee13116cbba05211\"\n",
        "\n",
        "# Navigate to your Google Drive\n",
        "%cd /content/drive/MyDrive/\n",
        "\n",
        "# # Replace with the actual dataset URL\n",
        "dataset_url = \"https://www.kaggle.com/datasets/tourist55/alzheimers-dataset-4-class-of-images\"\n",
        "!kaggle datasets download -d tourist55/alzheimers-dataset-4-class-of-images\n",
        "\n",
        "# # Unzip the downloaded file (adjust the filename as needed)\n",
        "!unzip -q alzheimers-dataset-4-class-of-images.zip\n"
      ]
    },
    {
      "cell_type": "code",
      "execution_count": null,
      "metadata": {
        "colab": {
          "base_uri": "https://localhost:8080/"
        },
        "id": "d9nQX4UGO4SQ",
        "outputId": "70322a74-3cfd-4d98-d0ed-0177882a6b6e"
      },
      "outputs": [
        {
          "name": "stdout",
          "output_type": "stream",
          "text": [
            "717\n",
            "52\n",
            "2560\n",
            "1792\n"
          ]
        }
      ],
      "source": [
        "path='/content/drive/MyDrive/Alzheimer_s Dataset/train'\n",
        "classes=os.listdir(path)\n",
        "for i in classes:\n",
        "  new_path=path+'/'+i\n",
        "  print(len(os.listdir(new_path)))\n"
      ]
    },
    {
      "cell_type": "code",
      "execution_count": null,
      "metadata": {
        "id": "R7SvDtCmTcqn"
      },
      "outputs": [],
      "source": [
        "1279"
      ]
    },
    {
      "cell_type": "code",
      "execution_count": null,
      "metadata": {
        "id": "vbo3ELLGM2yk"
      },
      "outputs": [],
      "source": [
        "import os\n",
        "dem_types=os.listdir('/content/drive/MyDrive/Dataset')"
      ]
    },
    {
      "cell_type": "code",
      "execution_count": null,
      "metadata": {
        "colab": {
          "base_uri": "https://localhost:8080/"
        },
        "id": "REwdyzQtTEhI",
        "outputId": "257c0fb7-77a5-4b2a-979d-f36070b60b65"
      },
      "outputs": [
        {
          "data": {
            "text/plain": [
              "['Mild_Demented', 'Moderate_Demented', 'Non_Demented', 'Very_Mild_Demented']"
            ]
          },
          "execution_count": 13,
          "metadata": {},
          "output_type": "execute_result"
        }
      ],
      "source": []
    },
    {
      "cell_type": "code",
      "execution_count": null,
      "metadata": {
        "id": "MFOdJpydBy0c"
      },
      "outputs": [],
      "source": [
        "root_part='/content/drive/MyDrive/Dataset'\n",
        "mild_dem=root_part+'/Mild_Demented'\n",
        "mod_dem=root_part+'/Moderate_Demented'\n",
        "non_dem=root_part+'/Non_Demented'\n",
        "very_mild_dem=root_part+'/Very_Mild_Demented'"
      ]
    },
    {
      "cell_type": "code",
      "execution_count": null,
      "metadata": {
        "id": "hqoETvJnfcrZ"
      },
      "outputs": [],
      "source": [
        "Non_Demented_path=root_part+'/Non_Demented'"
      ]
    },
    {
      "cell_type": "code",
      "execution_count": null,
      "metadata": {
        "id": "y1jZf5UEYrFN"
      },
      "outputs": [],
      "source": [
        "Non_Demented_files=os.listdir(root_part+'/Non_Demented')\n",
        "Demented_files=os.listdir(root_part+'/Mild_Demented')+os.listdir(root_part+'/Moderate_Demented')+os.listdir(root_part+'/Very_Mild_Demented')"
      ]
    },
    {
      "cell_type": "code",
      "execution_count": null,
      "metadata": {
        "colab": {
          "base_uri": "https://localhost:8080/"
        },
        "id": "JFGz4Wlq-swX",
        "outputId": "eb4cc45b-2cd7-4d96-c31f-3dc0ab7f7a7a"
      },
      "outputs": [
        {
          "data": {
            "text/plain": [
              "3200"
            ]
          },
          "execution_count": 18,
          "metadata": {},
          "output_type": "execute_result"
        }
      ],
      "source": [
        "len(Demented_files)"
      ]
    },
    {
      "cell_type": "code",
      "execution_count": null,
      "metadata": {
        "colab": {
          "base_uri": "https://localhost:8080/"
        },
        "id": "VsK-T-BIUbk7",
        "outputId": "3912413f-54bc-4c1a-e1d0-66473c11e9ee"
      },
      "outputs": [
        {
          "data": {
            "text/plain": [
              "['/content/drive/MyDrive/Dataset/Mild_Demented',\n",
              " '/content/drive/MyDrive/Dataset/Moderate_Demented',\n",
              " '/content/drive/MyDrive/Dataset/Non_Demented',\n",
              " '/content/drive/MyDrive/Dataset/Very_Mild_Demented']"
            ]
          },
          "execution_count": 9,
          "metadata": {},
          "output_type": "execute_result"
        }
      ],
      "source": [
        "categories=[mild_dem,mod_dem,non_dem,very_mild_dem]\n",
        "categories"
      ]
    },
    {
      "cell_type": "code",
      "execution_count": null,
      "metadata": {
        "colab": {
          "base_uri": "https://localhost:8080/"
        },
        "id": "SCAQCuomVC0Z",
        "outputId": "856104f6-6ca1-49b7-dda0-645c0096207a"
      },
      "outputs": [
        {
          "name": "stdout",
          "output_type": "stream",
          "text": [
            "/content/drive/MyDrive/Dataset/Mild_Demented 896\n",
            "/content/drive/MyDrive/Dataset/Moderate_Demented 64\n",
            "/content/drive/MyDrive/Dataset/Non_Demented 3200\n",
            "/content/drive/MyDrive/Dataset/Very_Mild_Demented 2240\n"
          ]
        }
      ],
      "source": [
        "total_images=0\n",
        "for i in categories:\n",
        "  total_images+=len(os.listdir(i))\n",
        "  print(str(i),len(os.listdir(i)))\n",
        "\n"
      ]
    },
    {
      "cell_type": "code",
      "execution_count": null,
      "metadata": {
        "id": "p6nwv9BAiXKN"
      },
      "outputs": [],
      "source": [
        "np.set_printoptions(edgeitems=100, linewidth=120)"
      ]
    },
    {
      "cell_type": "code",
      "execution_count": null,
      "metadata": {
        "id": "TpLW4_6KWB8Z"
      },
      "outputs": [],
      "source": [
        "import numpy as np\n",
        "from sklearn.utils import resample\n",
        "\n",
        "# Load and prepare your data\n",
        "non_demented_data = np.load('/content/drive/MyDrive/non_demented_images_arrays.npy')\n",
        "very_mild_demented_data = np.load('/content/drive/MyDrive/very_mild_demented_images_arrays.npy')\n",
        "\n",
        "# Calculate the difference in sample counts\n",
        "sample_difference = len(very_mild_demented_data) - len(non_demented_data)\n",
        "\n",
        "# Undersample the majority class (Non Demented)\n",
        "undersampled_non_demented_data = resample(non_demented_data, n_samples=len(very_mild_demented_data), random_state=42)\n",
        "\n",
        "# Now you have balanced data for both classes\n",
        "balanced_data = np.concatenate((undersampled_non_demented_data, very_mild_demented_data), axis=0)\n"
      ]
    },
    {
      "cell_type": "code",
      "execution_count": null,
      "metadata": {
        "colab": {
          "base_uri": "https://localhost:8080/"
        },
        "id": "SrKI29ZMR-t1",
        "outputId": "fee2c63e-52bd-4de6-8e75-8bf2f2a45336"
      },
      "outputs": [
        {
          "data": {
            "text/plain": [
              "array([[-0.87392018, -0.87392018, -0.87392018, ..., -0.87392018,\n",
              "        -0.87392018, -0.87392018],\n",
              "       [-0.87392018, -0.87392018, -0.87392018, ..., -0.87392018,\n",
              "        -0.87392018, -0.87392018],\n",
              "       [-0.87392018, -0.87392018, -0.87392018, ..., -0.87392018,\n",
              "        -0.87392018, -0.87392018],\n",
              "       ...,\n",
              "       [-0.87392018, -0.87392018, -0.87392018, ..., -0.87392018,\n",
              "        -0.87392018, -0.87392018],\n",
              "       [-0.87392018, -0.87392018, -0.87392018, ..., -0.87392018,\n",
              "        -0.87392018, -0.87392018],\n",
              "       [-0.87392018, -0.87392018, -0.87392018, ..., -0.87392018,\n",
              "        -0.87392018, -0.87392018]])"
            ]
          },
          "execution_count": 43,
          "metadata": {},
          "output_type": "execute_result"
        }
      ],
      "source": [
        "balanced_data[0]"
      ]
    },
    {
      "cell_type": "code",
      "execution_count": null,
      "metadata": {
        "colab": {
          "base_uri": "https://localhost:8080/"
        },
        "id": "8G-yku-4SI2_",
        "outputId": "c407608d-ef52-46e6-f699-051af6386735"
      },
      "outputs": [
        {
          "data": {
            "text/plain": [
              "(4480, 128, 128)"
            ]
          },
          "execution_count": 44,
          "metadata": {},
          "output_type": "execute_result"
        }
      ],
      "source": [
        "balanced_data.shape"
      ]
    },
    {
      "cell_type": "code",
      "execution_count": null,
      "metadata": {
        "id": "Doo5YUz9RMG_"
      },
      "outputs": [],
      "source": [
        "very_mild_demented_images_arrays=np.array(very_mild_demented_images_arrays).shape"
      ]
    },
    {
      "cell_type": "code",
      "execution_count": null,
      "metadata": {
        "id": "aorUVQK8ReAV"
      },
      "outputs": [],
      "source": [
        "import numpy as np"
      ]
    },
    {
      "cell_type": "code",
      "execution_count": null,
      "metadata": {
        "id": "CbpbWx2xipDx"
      },
      "outputs": [],
      "source": [
        "demented_images_arrays = np.load('/content/drive/My Drive/demented_images_arrays.npy')\n",
        "non_demented_images_arrays = np.load('/content/drive/My Drive/non_demented_images_arrays.npy')"
      ]
    },
    {
      "cell_type": "code",
      "execution_count": null,
      "metadata": {
        "id": "G-5UwxFxYQ8a"
      },
      "outputs": [],
      "source": [
        "total_images_arrays=np.concatenate((non_demented_images_arrays,demented_images_arrays),axis=0)"
      ]
    },
    {
      "cell_type": "code",
      "execution_count": null,
      "metadata": {
        "colab": {
          "base_uri": "https://localhost:8080/"
        },
        "id": "T3cKzpGEa608",
        "outputId": "128a89cd-50db-4d05-a851-5d0ba70c2f08"
      },
      "outputs": [
        {
          "data": {
            "text/plain": [
              "(6400, 128, 128)"
            ]
          },
          "execution_count": 59,
          "metadata": {},
          "output_type": "execute_result"
        }
      ],
      "source": [
        "total_images_arrays.shape"
      ]
    },
    {
      "cell_type": "code",
      "execution_count": null,
      "metadata": {
        "id": "ZwS741u7gV1Y"
      },
      "outputs": [],
      "source": [
        "import tensorflow as tf"
      ]
    },
    {
      "cell_type": "code",
      "execution_count": null,
      "metadata": {
        "id": "W0uasRRkuQNy"
      },
      "outputs": [],
      "source": [
        "from sklearn.model_selection import train_test_split\n",
        "X_train, X_test, y_train, y_test = train_test_split(total_images_arrays_rgb, labels, test_size=0.2, random_state=42)"
      ]
    },
    {
      "cell_type": "code",
      "execution_count": null,
      "metadata": {
        "colab": {
          "base_uri": "https://localhost:8080/"
        },
        "id": "VwBdP0HhjtzA",
        "outputId": "d880d6b3-8340-4d79-beeb-8d5b03b643b3"
      },
      "outputs": [
        {
          "data": {
            "text/plain": [
              "array([[-0.76972838, -0.76972838, -0.76972838, ..., -0.76972838,\n",
              "        -0.76972838, -0.76972838],\n",
              "       [-0.76972838, -0.76972838, -0.76972838, ..., -0.76972838,\n",
              "        -0.76972838, -0.76972838],\n",
              "       [-0.76972838, -0.76972838, -0.76972838, ..., -0.76972838,\n",
              "        -0.76972838, -0.76972838],\n",
              "       ...,\n",
              "       [-0.76972838, -0.76972838, -0.76972838, ..., -0.76972838,\n",
              "        -0.76972838, -0.76972838],\n",
              "       [-0.76972838, -0.76972838, -0.76972838, ..., -0.76972838,\n",
              "        -0.76972838, -0.76972838],\n",
              "       [-0.76972838, -0.76972838, -0.76972838, ..., -0.76972838,\n",
              "        -0.76972838, -0.76972838]])"
            ]
          },
          "execution_count": 66,
          "metadata": {},
          "output_type": "execute_result"
        }
      ],
      "source": [
        "total_images_arrays[0]"
      ]
    },
    {
      "cell_type": "code",
      "execution_count": null,
      "metadata": {
        "colab": {
          "base_uri": "https://localhost:8080/",
          "height": 406
        },
        "id": "L8EqZAcRjsBB",
        "outputId": "f0a5ed7a-3525-4fac-d675-cd9de02065a8"
      },
      "outputs": [
        {
          "data": {
            "image/png": "[encoded data removed]",
            "text/plain": [
              "<Figure size 640x480 with 1 Axes>"
            ]
          },
          "metadata": {},
          "output_type": "display_data"
        }
      ],
      "source": [
        "import numpy as np\n",
        "from PIL import Image\n",
        "import matplotlib.pyplot as plt\n",
        "\n",
        "# Assuming 'gray_image_array' is your grayscale image represented as a NumPy array\n",
        "# 'gray_image_array' should have a shape like (height, width)\n",
        "\n",
        "# Convert the grayscale array to a PIL Image\n",
        "gray_image = Image.fromarray(np.uint8(total_images_arrays[0]))\n",
        "\n",
        "# Convert the grayscale image to RGB format\n",
        "\n",
        "\n",
        "# Display the RGB image\n",
        "plt.imshow(gray_image)\n",
        "plt.axis('off')  # Optional: Remove axis\n",
        "plt.show()\n"
      ]
    },
    {
      "cell_type": "code",
      "execution_count": null,
      "metadata": {
        "colab": {
          "base_uri": "https://localhost:8080/",
          "height": 202
        },
        "id": "YLtxqnVrkD7x",
        "outputId": "810a680c-5970-4f61-c5e8-cb8ab5988dc9"
      },
      "outputs": [
        {
          "data": {
            "image/png": "[encoded data removed]",
            "text/plain": [
              "<Figure size 640x480 with 1 Axes>"
            ]
          },
          "metadata": {},
          "output_type": "display_data"
        }
      ],
      "source": [
        "import numpy as np\n",
        "from PIL import Image\n",
        "import matplotlib.pyplot as plt\n",
        "\n",
        "# Assuming 'gray_image_array' is your grayscale image represented as a NumPy array\n",
        "# 'gray_image_array' should have a shape like (height, width)\n",
        "\n",
        "# Convert the grayscale array to a PIL Image\n",
        "gray_image = Image.fromarray(np.uint8(total_images_arrays[0]))\n",
        "\n",
        "# Convert the grayscale image to RGB format using np.repeat\n",
        "rgb_image = np.repeat(gray_image, 3, axis=-1)\n",
        "\n",
        "# Display the RGB image\n",
        "plt.imshow(rgb_image)\n",
        "plt.axis('off')  # Optional: Remove axis\n",
        "plt.show()\n"
      ]
    },
    {
      "cell_type": "code",
      "execution_count": null,
      "metadata": {
        "colab": {
          "base_uri": "https://localhost:8080/"
        },
        "id": "U10FJtH9geCl",
        "outputId": "aa8e8a75-b14e-4216-8a65-3756dfb31c12"
      },
      "outputs": [
        {
          "data": {
            "text/plain": [
              "<KerasTensor: shape=(None, 1) dtype=float32 (created by layer 'dense_6')>"
            ]
          },
          "execution_count": 52,
          "metadata": {},
          "output_type": "execute_result"
        }
      ],
      "source": [
        "predictions"
      ]
    },
    {
      "cell_type": "code",
      "execution_count": null,
      "metadata": {
        "colab": {
          "base_uri": "https://localhost:8080/"
        },
        "id": "iniVxOSjrY1z",
        "outputId": "6d1a56e2-9fa3-4875-a3c4-de848910c64e"
      },
      "outputs": [
        {
          "name": "stdout",
          "output_type": "stream",
          "text": [
            "Epoch 1/10\n",
            "160/160 [==============================] - 10s 30ms/step - loss: 1.4415 - accuracy: 0.5049 - val_loss: 0.6935 - val_accuracy: 0.4789\n",
            "Epoch 2/10\n",
            "160/160 [==============================] - 4s 26ms/step - loss: 0.7033 - accuracy: 0.4969 - val_loss: 0.6932 - val_accuracy: 0.4789\n",
            "Epoch 3/10\n",
            "160/160 [==============================] - 4s 26ms/step - loss: 0.6972 - accuracy: 0.5066 - val_loss: 0.6931 - val_accuracy: 0.5211\n",
            "Epoch 4/10\n",
            "160/160 [==============================] - 4s 25ms/step - loss: 0.6951 - accuracy: 0.5082 - val_loss: 0.6929 - val_accuracy: 0.5211\n",
            "Epoch 5/10\n",
            "160/160 [==============================] - 4s 25ms/step - loss: 0.6950 - accuracy: 0.4988 - val_loss: 0.6930 - val_accuracy: 0.5211\n",
            "Epoch 6/10\n",
            "160/160 [==============================] - 4s 26ms/step - loss: 0.6942 - accuracy: 0.4955 - val_loss: 0.6936 - val_accuracy: 0.4789\n",
            "Epoch 7/10\n",
            "160/160 [==============================] - 4s 26ms/step - loss: 0.6946 - accuracy: 0.5033 - val_loss: 0.6939 - val_accuracy: 0.4789\n",
            "Epoch 8/10\n",
            "160/160 [==============================] - 4s 26ms/step - loss: 0.6937 - accuracy: 0.5074 - val_loss: 0.6931 - val_accuracy: 0.5211\n",
            "Epoch 9/10\n",
            "160/160 [==============================] - 4s 26ms/step - loss: 0.6937 - accuracy: 0.5012 - val_loss: 0.6947 - val_accuracy: 0.4789\n",
            "Epoch 10/10\n",
            "160/160 [==============================] - 4s 26ms/step - loss: 0.6937 - accuracy: 0.4916 - val_loss: 0.6936 - val_accuracy: 0.4789\n"
          ]
        }
      ],
      "source": [
        "# Train the model\n",
        "history = model.fit(X_train, y_train, validation_data=(X_test, y_test), epochs=10,batch_size=32)\n"
      ]
    },
    {
      "cell_type": "code",
      "execution_count": null,
      "metadata": {
        "colab": {
          "base_uri": "https://localhost:8080/"
        },
        "id": "ZBkvDhFSrho_",
        "outputId": "a6f233f7-e9fa-48c3-fdb4-2040addc8490"
      },
      "outputs": [
        {
          "name": "stdout",
          "output_type": "stream",
          "text": [
            "Model: \"sequential_1\"\n",
            "_________________________________________________________________\n",
            " Layer (type)                Output Shape              Param #   \n",
            "=================================================================\n",
            " conv2d_15 (Conv2D)          (None, 128, 128, 64)      1792      \n",
            "                                                                 \n",
            " max_pooling2d_7 (MaxPooling  (None, 64, 64, 64)       0         \n",
            " 2D)                                                             \n",
            "                                                                 \n",
            " conv2d_16 (Conv2D)          (None, 64, 64, 128)       73856     \n",
            "                                                                 \n",
            " max_pooling2d_8 (MaxPooling  (None, 32, 32, 128)      0         \n",
            " 2D)                                                             \n",
            "                                                                 \n",
            " flatten_3 (Flatten)         (None, 131072)            0         \n",
            "                                                                 \n",
            " dense_13 (Dense)            (None, 128)               16777344  \n",
            "                                                                 \n",
            " dense_14 (Dense)            (None, 1)                 129       \n",
            "                                                                 \n",
            "=================================================================\n",
            "Total params: 16,853,121\n",
            "Trainable params: 16,853,121\n",
            "Non-trainable params: 0\n",
            "_________________________________________________________________\n",
            "Epoch 1/10\n",
            "112/112 [==============================] - 3s 12ms/step - loss: 0.8470 - accuracy: 0.5778 - val_loss: 0.6690 - val_accuracy: 0.6250\n",
            "Epoch 2/10\n",
            "112/112 [==============================] - 1s 8ms/step - loss: 0.5654 - accuracy: 0.7051 - val_loss: 0.4946 - val_accuracy: 0.7366\n",
            "Epoch 3/10\n",
            "112/112 [==============================] - 1s 8ms/step - loss: 0.3598 - accuracy: 0.8465 - val_loss: 0.3234 - val_accuracy: 0.8516\n",
            "Epoch 4/10\n",
            "112/112 [==============================] - 1s 8ms/step - loss: 0.1956 - accuracy: 0.9252 - val_loss: 0.2024 - val_accuracy: 0.9219\n",
            "Epoch 5/10\n",
            "112/112 [==============================] - 1s 8ms/step - loss: 0.0944 - accuracy: 0.9660 - val_loss: 0.1382 - val_accuracy: 0.9643\n",
            "Epoch 6/10\n",
            "112/112 [==============================] - 1s 8ms/step - loss: 0.0497 - accuracy: 0.9852 - val_loss: 0.1466 - val_accuracy: 0.9431\n",
            "Epoch 7/10\n",
            "112/112 [==============================] - 1s 8ms/step - loss: 0.0350 - accuracy: 0.9877 - val_loss: 0.1213 - val_accuracy: 0.9576\n",
            "Epoch 8/10\n",
            "112/112 [==============================] - 1s 8ms/step - loss: 0.0154 - accuracy: 0.9964 - val_loss: 0.0929 - val_accuracy: 0.9788\n",
            "Epoch 9/10\n",
            "112/112 [==============================] - 1s 8ms/step - loss: 0.0051 - accuracy: 0.9994 - val_loss: 0.0865 - val_accuracy: 0.9810\n",
            "Epoch 10/10\n",
            "112/112 [==============================] - 1s 8ms/step - loss: 0.0011 - accuracy: 1.0000 - val_loss: 0.0885 - val_accuracy: 0.9754\n"
          ]
        },
        {
          "data": {
            "text/plain": [
              "<keras.callbacks.History at 0x7fd6bc16ce20>"
            ]
          },
          "execution_count": 81,
          "metadata": {},
          "output_type": "execute_result"
        }
      ],
      "source": [
        "model = Sequential()\n",
        "\n",
        "# Add convolutional and pooling layers\n",
        "model.add(Conv2D(64, (3, 3), activation='relu', padding='same', input_shape=(128, 128, 3)))\n",
        "model.add(MaxPooling2D((2, 2)))\n",
        "model.add(Conv2D(128, (3, 3), activation='relu', padding='same'))\n",
        "model.add(MaxPooling2D((2, 2)))\n",
        "model.add(Flatten())\n",
        "\n",
        "# Add fully connected layers\n",
        "model.add(Dense(128, activation='relu'))\n",
        "model.add(Dense(1, activation='sigmoid'))\n",
        "\n",
        "# Compile the model\n",
        "model.compile(optimizer='adam', loss='binary_crossentropy', metrics=['accuracy'])\n",
        "\n",
        "# Print model summary\n",
        "model.summary()\n",
        "\n",
        "# Train the model\n",
        "model.fit(X_train, y_train, batch_size=32, epochs=10, validation_data=(X_test, y_test))"
      ]
    },
    {
      "cell_type": "code",
      "execution_count": null,
      "metadata": {
        "colab": {
          "base_uri": "https://localhost:8080/"
        },
        "id": "xBcZXLgvWy2U",
        "outputId": "1175c0f4-58d1-426a-bbba-83e8af6a6daf"
      },
      "outputs": [
        {
          "name": "stdout",
          "output_type": "stream",
          "text": [
            "28/28 [==============================] - 0s 4ms/step\n",
            "Accuracy: 0.9754464285714286\n",
            "Precision: 0.9907407407407407\n",
            "Recall: 0.9596412556053812\n"
          ]
        }
      ],
      "source": [
        "\n",
        "from sklearn.metrics import accuracy_score, precision_score, recall_score\n",
        "predictions = model.predict(X_test)\n",
        "\n",
        "# Apply threshold to get binary predictions\n",
        "threshold = 0.5\n",
        "binary_predictions = (predictions > threshold).astype(int)\n",
        "\n",
        "# Calculate accuracy\n",
        "accuracy = accuracy_score(y_test, binary_predictions)\n",
        "\n",
        "# Calculate precision\n",
        "precision = precision_score(y_test, binary_predictions)\n",
        "\n",
        "# Calculate recall\n",
        "recall = recall_score(y_test, binary_predictions)\n",
        "\n",
        "print(\"Accuracy:\", accuracy)\n",
        "print(\"Precision:\", precision)\n",
        "print(\"Recall:\", recall)"
      ]
    },
    {
      "cell_type": "code",
      "execution_count": null,
      "metadata": {
        "id": "5zDvfONZXEIO"
      },
      "outputs": [],
      "source": [
        "# Save the entire model (architecture, weights, optimizer state)\n",
        "model.save('/content/drive/MyDrive/my_model.h5')\n"
      ]
    },
    {
      "cell_type": "code",
      "execution_count": null,
      "metadata": {
        "colab": {
          "base_uri": "https://localhost:8080/"
        },
        "id": "Yin7_4fpVfDz",
        "outputId": "a257401f-837c-4acb-b946-61c9bd30a0e2"
      },
      "outputs": [
        {
          "name": "stdout",
          "output_type": "stream",
          "text": [
            "28/28 [==============================] - 0s 4ms/step\n"
          ]
        }
      ],
      "source": [
        "y_pred=model.predict(X_test)"
      ]
    },
    {
      "cell_type": "code",
      "execution_count": null,
      "metadata": {
        "id": "es6jS8PjWUZa"
      },
      "outputs": [],
      "source": [
        "y_pred"
      ]
    },
    {
      "cell_type": "code",
      "execution_count": null,
      "metadata": {
        "id": "DlqTBfvqWVyS"
      },
      "outputs": [],
      "source": []
    }
  ],
  "metadata": {
    "accelerator": "GPU",
    "colab": {
      "gpuType": "V100",
      "machine_shape": "hm",
      "provenance": [],
      "toc_visible": true
    },
    "kernelspec": {
      "display_name": "Python 3",
      "name": "python3"
    },
    "language_info": {
      "name": "python"
    }
  },
  "nbformat": 4,
  "nbformat_minor": 0
}
